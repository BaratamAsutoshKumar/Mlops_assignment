{
  "nbformat": 4,
  "nbformat_minor": 0,
  "metadata": {
    "colab": {
      "provenance": []
    },
    "kernelspec": {
      "name": "python3",
      "display_name": "Python 3"
    },
    "language_info": {
      "name": "python"
    }
  },
  "cells": [
    {
      "cell_type": "markdown",
      "source": [
        "## MLOps Assignment 1"
      ],
      "metadata": {
        "id": "LlIGlcIiywyq"
      }
    },
    {
      "cell_type": "markdown",
      "source": [
        "Q1. Print multiplication table from 1 to 10"
      ],
      "metadata": {
        "id": "i3GplYoCqa89"
      }
    },
    {
      "cell_type": "code",
      "source": [
        "l=[i for i in range(1,11)]\n",
        "\n",
        "for i in range(1,11):\n",
        "  print(\"Multiplication Table \",i,\" \",end=\"\\t\")\n",
        "print(end=\"\\n\")\n",
        "for i in range(1,11):\n",
        "  for j in l:\n",
        "    print(j,\"*\",i,\"=\",j*i,end=\"\\t \\t \\t\")\n",
        "  print(end=\"\\n\")\n"
      ],
      "metadata": {
        "id": "Vfm5RBY0qbIs",
        "colab": {
          "base_uri": "https://localhost:8080/"
        },
        "outputId": "173d45bf-ac08-4784-f745-4b9d35ced38c"
      },
      "execution_count": null,
      "outputs": [
        {
          "output_type": "stream",
          "name": "stdout",
          "text": [
            "Multiplication Table  1  \tMultiplication Table  2  \tMultiplication Table  3  \tMultiplication Table  4  \tMultiplication Table  5  \tMultiplication Table  6  \tMultiplication Table  7  \tMultiplication Table  8  \tMultiplication Table  9  \tMultiplication Table  10  \t\n",
            "1 * 1 = 1\t \t \t2 * 1 = 2\t \t \t3 * 1 = 3\t \t \t4 * 1 = 4\t \t \t5 * 1 = 5\t \t \t6 * 1 = 6\t \t \t7 * 1 = 7\t \t \t8 * 1 = 8\t \t \t9 * 1 = 9\t \t \t10 * 1 = 10\t \t \t\n",
            "1 * 2 = 2\t \t \t2 * 2 = 4\t \t \t3 * 2 = 6\t \t \t4 * 2 = 8\t \t \t5 * 2 = 10\t \t \t6 * 2 = 12\t \t \t7 * 2 = 14\t \t \t8 * 2 = 16\t \t \t9 * 2 = 18\t \t \t10 * 2 = 20\t \t \t\n",
            "1 * 3 = 3\t \t \t2 * 3 = 6\t \t \t3 * 3 = 9\t \t \t4 * 3 = 12\t \t \t5 * 3 = 15\t \t \t6 * 3 = 18\t \t \t7 * 3 = 21\t \t \t8 * 3 = 24\t \t \t9 * 3 = 27\t \t \t10 * 3 = 30\t \t \t\n",
            "1 * 4 = 4\t \t \t2 * 4 = 8\t \t \t3 * 4 = 12\t \t \t4 * 4 = 16\t \t \t5 * 4 = 20\t \t \t6 * 4 = 24\t \t \t7 * 4 = 28\t \t \t8 * 4 = 32\t \t \t9 * 4 = 36\t \t \t10 * 4 = 40\t \t \t\n",
            "1 * 5 = 5\t \t \t2 * 5 = 10\t \t \t3 * 5 = 15\t \t \t4 * 5 = 20\t \t \t5 * 5 = 25\t \t \t6 * 5 = 30\t \t \t7 * 5 = 35\t \t \t8 * 5 = 40\t \t \t9 * 5 = 45\t \t \t10 * 5 = 50\t \t \t\n",
            "1 * 6 = 6\t \t \t2 * 6 = 12\t \t \t3 * 6 = 18\t \t \t4 * 6 = 24\t \t \t5 * 6 = 30\t \t \t6 * 6 = 36\t \t \t7 * 6 = 42\t \t \t8 * 6 = 48\t \t \t9 * 6 = 54\t \t \t10 * 6 = 60\t \t \t\n",
            "1 * 7 = 7\t \t \t2 * 7 = 14\t \t \t3 * 7 = 21\t \t \t4 * 7 = 28\t \t \t5 * 7 = 35\t \t \t6 * 7 = 42\t \t \t7 * 7 = 49\t \t \t8 * 7 = 56\t \t \t9 * 7 = 63\t \t \t10 * 7 = 70\t \t \t\n",
            "1 * 8 = 8\t \t \t2 * 8 = 16\t \t \t3 * 8 = 24\t \t \t4 * 8 = 32\t \t \t5 * 8 = 40\t \t \t6 * 8 = 48\t \t \t7 * 8 = 56\t \t \t8 * 8 = 64\t \t \t9 * 8 = 72\t \t \t10 * 8 = 80\t \t \t\n",
            "1 * 9 = 9\t \t \t2 * 9 = 18\t \t \t3 * 9 = 27\t \t \t4 * 9 = 36\t \t \t5 * 9 = 45\t \t \t6 * 9 = 54\t \t \t7 * 9 = 63\t \t \t8 * 9 = 72\t \t \t9 * 9 = 81\t \t \t10 * 9 = 90\t \t \t\n",
            "1 * 10 = 10\t \t \t2 * 10 = 20\t \t \t3 * 10 = 30\t \t \t4 * 10 = 40\t \t \t5 * 10 = 50\t \t \t6 * 10 = 60\t \t \t7 * 10 = 70\t \t \t8 * 10 = 80\t \t \t9 * 10 = 90\t \t \t10 * 10 = 100\t \t \t\n"
          ]
        }
      ]
    },
    {
      "cell_type": "markdown",
      "source": [
        "Q2. Given two lists, l1 and l2, write a program to create a third list l3 by picking an odd-index element from the list l1 and even index elements from the list l2."
      ],
      "metadata": {
        "id": "kCxjfhGtiMFb"
      }
    },
    {
      "cell_type": "code",
      "source": [
        "#write here and run the cell\n",
        "l1=list(map(int,input(\"enter list1 elements:\").split()))\n",
        "l2=list(map(int,input(\"enter list 2 elements:\").split()))\n",
        "l3=list()\n",
        "ptr1=1\n",
        "ptr2=0\n",
        "\n",
        "while (ptr1<len(l1) or ptr2<len(l2)):\n",
        "  if((ptr1<len(l1) and ptr2<len(l2))):\n",
        "    l3.append(l1[ptr1])\n",
        "    l3.append(l2[ptr2])\n",
        "    ptr1=ptr1+2\n",
        "    ptr2=ptr2+2\n",
        "  elif(ptr1<len(l1)):\n",
        "    l3.append(l1[ptr1])\n",
        "    ptr1=ptr1+2\n",
        "  elif(ptr2<len(l2)):\n",
        "    l3.append(l2[ptr2])\n",
        "    ptr2=ptr2+2\n",
        "\n",
        "print(\"list l3:\",l3)\n"
      ],
      "metadata": {
        "id": "r1lkQPN8iNSc",
        "colab": {
          "base_uri": "https://localhost:8080/"
        },
        "outputId": "bcdd76e3-d914-442f-b214-b214496fd539"
      },
      "execution_count": null,
      "outputs": [
        {
          "output_type": "stream",
          "name": "stdout",
          "text": [
            "enter list1 elements:1 2 3 4 5 \n",
            "enter list 2 elements:6 7 8 9 10\n",
            "list l3: [2, 6, 4, 8, 10]\n"
          ]
        }
      ]
    },
    {
      "cell_type": "markdown",
      "source": [
        "Q3. Print a this pattern(*)\n",
        "\n",
        "    * * * * * * * *\n",
        "      * * * * * * *\n",
        "        * * * * * *\n",
        "          * * * * *\n",
        "            * * * *\n",
        "              * * *\n",
        "                * *\n",
        "                  *"
      ],
      "metadata": {
        "id": "GBb0FgtIq4YA"
      }
    },
    {
      "cell_type": "code",
      "source": [
        "#write here and run the cell\n",
        "space=0\n",
        "for i in range(8,-1,-1):\n",
        "  s=space*\"  \"+\"* \"*i\n",
        "  space=space+1\n",
        "  print(s)\n",
        "\n"
      ],
      "metadata": {
        "id": "rfbGzuA3rcGs",
        "colab": {
          "base_uri": "https://localhost:8080/"
        },
        "outputId": "3d4b259a-263d-437f-a739-f825c0423ea6"
      },
      "execution_count": null,
      "outputs": [
        {
          "output_type": "stream",
          "name": "stdout",
          "text": [
            "* * * * * * * * \n",
            "  * * * * * * * \n",
            "    * * * * * * \n",
            "      * * * * * \n",
            "        * * * * \n",
            "          * * * \n",
            "            * * \n",
            "              * \n",
            "                \n"
          ]
        }
      ]
    },
    {
      "cell_type": "markdown",
      "source": [
        "Q4. Create a function named `exponent(base, exp)` that returns an integer representing the result of raising `base` to the power of `exp`.\n",
        "`exp` is >0.\n",
        "\n",
        "base = 5\n",
        "exponent = 4\n",
        "\n",
        "5 raises to the power of 4 is: 625\n",
        "i.e. (5 *5 * 5 *5 = 625)"
      ],
      "metadata": {
        "id": "WIblh-z6s9me"
      }
    },
    {
      "cell_type": "code",
      "source": [
        "#write here and run the cell\n",
        "def exponent(base,exp):\n",
        "  return base**exp\n",
        "\n",
        "base=int(input(\"enter base\"))\n",
        "exp=int(input(\"enter exponent\"))\n",
        "print(base,\" raises to the power of\",exp,\" is:\",exponent(base,exp))"
      ],
      "metadata": {
        "id": "6-KKDQNWs8eQ",
        "colab": {
          "base_uri": "https://localhost:8080/"
        },
        "outputId": "08fe7260-5626-47a7-cfe4-54d50f9a27b3"
      },
      "execution_count": null,
      "outputs": [
        {
          "output_type": "stream",
          "name": "stdout",
          "text": [
            "enter base5\n",
            "enter exponent4\n",
            "5  raises to the power of 4  is: 625\n"
          ]
        }
      ]
    },
    {
      "cell_type": "markdown",
      "source": [
        "Q5. Create a file named test.txt and insert the following content into it.\n",
        "\n",
        "    line1\n",
        "    line2\n",
        "    line3\n",
        "    line4\n",
        "    line5\n",
        "    line6\n",
        "    line7\n",
        "\n",
        "Write a program which write all content of a given file (test.txt) into a new file by skipping line number 5 (line5)"
      ],
      "metadata": {
        "id": "_QUrD8h6t6PN"
      }
    },
    {
      "cell_type": "code",
      "source": [
        "#write here and run the cell\n",
        "f=open(\"text.txt\",'w')\n",
        "x=\"\"\"line1\n",
        "line2\n",
        "line3\n",
        "line4\n",
        "line5\n",
        "line6\n",
        "line7\"\"\"\n",
        "f.write(x)\n",
        "\n",
        "f.close()\n",
        "f1=open(\"text.txt\",'r')\n",
        "f2=open(\"q5ans.txt\",'w')\n",
        "l=[i for i in f1.readlines()]\n",
        "for i in range(len(l)):\n",
        "  if(i==4):\n",
        "    continue\n",
        "  else:\n",
        "    f2.write(l[i])\n",
        "f1.close()\n",
        "f2.close()\n",
        "\n",
        "f3=open(\"q5ans.txt\",\"r\")\n",
        "x=f3.read()\n",
        "print(x)\n",
        "f3.close()"
      ],
      "metadata": {
        "id": "I2KF1QHKrq-s",
        "colab": {
          "base_uri": "https://localhost:8080/"
        },
        "outputId": "9ce48334-0572-42a6-86e6-4621862e6ca0"
      },
      "execution_count": 15,
      "outputs": [
        {
          "output_type": "stream",
          "name": "stdout",
          "text": [
            "line1\n",
            "line2\n",
            "line3\n",
            "line4\n",
            "line6\n",
            "line7\n"
          ]
        }
      ]
    },
    {
      "cell_type": "markdown",
      "source": [
        "Q6. Write a program which receives three names from the user in a single input() function call.\n",
        "\n",
        "    Input: IIT JODHPUR RAJASTHAN\n",
        "\n",
        "    Output:\n",
        "    IIT\n",
        "    JODHPUR\n",
        "    RAJASTHAN"
      ],
      "metadata": {
        "id": "6cdAt0ONvMVI"
      }
    },
    {
      "cell_type": "code",
      "source": [
        "#write here and run the cell\n",
        "def func(s):\n",
        "  s=s.split()\n",
        "  for i in s:\n",
        "    print(i)\n",
        "\n",
        "s=input(\"enter three names\")\n",
        "func(s)"
      ],
      "metadata": {
        "id": "Mo0wyeB6vJJm",
        "colab": {
          "base_uri": "https://localhost:8080/"
        },
        "outputId": "812847c0-0df9-4014-c0f5-00aebd881be6"
      },
      "execution_count": null,
      "outputs": [
        {
          "output_type": "stream",
          "name": "stdout",
          "text": [
            "enter three namesIIT JODHPUR RAJASTHAN\n",
            "IIT\n",
            "JODHPUR\n",
            "RAJASTHAN\n"
          ]
        }
      ]
    },
    {
      "cell_type": "markdown",
      "source": [
        "Q7. Write a program to define a function called show_employee() with the following requirements:\n",
        "\n",
        "*   It should take the employee's name and salary as input and display both.\n",
        "*   If the salary is not provided in the function call, assign a default value of 9000 to it.\n",
        "\n",
        "After passing:\n",
        "\n",
        "showEmployee(\"Bill Gates\", 12000)\n",
        "\n",
        "showEmployee(\"Elon Musk\")\n",
        "\n",
        "It should print:\n",
        "\n",
        "Name: Bill Gates salary: 12000\n",
        "\n",
        "Name: Elon Musk salary: 9000"
      ],
      "metadata": {
        "id": "jwSKpPcYv_De"
      }
    },
    {
      "cell_type": "code",
      "source": [
        "#write here and run the cell\n",
        "def show_employee(name,salary=9000):\n",
        "  print(\"Name:\",name,\"salary:\",salary)\n",
        "\n",
        "\n",
        "show_employee(\"Bill Gates\", 12000)\n",
        "show_employee(\"Elon Musk\")"
      ],
      "metadata": {
        "id": "yyzhkF1Lv94j",
        "colab": {
          "base_uri": "https://localhost:8080/"
        },
        "outputId": "393e7a08-ee17-404c-eed4-5ae83f2b63f7"
      },
      "execution_count": 2,
      "outputs": [
        {
          "output_type": "stream",
          "name": "stdout",
          "text": [
            "Name: Bill Gates salary: 12000\n",
            "Name: Elon Musk salary: 9000\n"
          ]
        }
      ]
    },
    {
      "cell_type": "markdown",
      "source": [
        "Q8. Write a program to identify words that contain both letters and digits from a given input string.\n",
        "\n",
        "    Given str1 = \"Harry25 is Gryffindor Wizard50 and cursed\"\n",
        "\n",
        "    Output:\n",
        "    Harry25\n",
        "    Wizard50"
      ],
      "metadata": {
        "id": "BAtCQH3pxXWV"
      }
    },
    {
      "cell_type": "code",
      "source": [
        "#write here and run the cell\n",
        "def check_letter(s):\n",
        "  for i in s:\n",
        "    if i in \"abcdefghijklmnopqrstuvwxyz\":\n",
        "      return True\n",
        "  else:\n",
        "    return False\n",
        "def check_number(s):\n",
        "  for i in s:\n",
        "    if i in \"0123456789\":\n",
        "      return True\n",
        "  else:\n",
        "    return False\n",
        "x=list(input().split())\n",
        "for s in x:\n",
        "  if check_letter(s) and check_number(s):\n",
        "    print(s)\n",
        "\n"
      ],
      "metadata": {
        "id": "bqbyxYdqvJHY",
        "colab": {
          "base_uri": "https://localhost:8080/"
        },
        "outputId": "98d3fc0f-0646-4f6b-f57e-787c56dc6002"
      },
      "execution_count": 5,
      "outputs": [
        {
          "output_type": "stream",
          "name": "stdout",
          "text": [
            "Harry25 is Gryffindor Wizard50 and cursed\n",
            "Harry25\n",
            "Wizard50\n"
          ]
        }
      ]
    },
    {
      "cell_type": "markdown",
      "source": [
        "Q9. Write a program to substitute each special character in the given string with the symbol #.\n",
        "\n",
        "    Given: str1 = '/*Modi is @Politician & Melony!!'\n",
        "\n",
        "    Output: ##Modi is #Politician # Melony##"
      ],
      "metadata": {
        "id": "Ev6TIw7oyGzJ"
      }
    },
    {
      "cell_type": "code",
      "source": [
        "#write here and run the cell\n",
        "import string\n",
        "str1 = '/*Modi is @Politician & Melony!!'\n",
        "rep=string.punctuation #For special Characters\n",
        "\n",
        "for i in str1:\n",
        "  if i in rep:\n",
        "    ans=ans+\"#\"\n",
        "  else:\n",
        "    ans=ans+i\n",
        "\n",
        "print(ans)"
      ],
      "metadata": {
        "id": "Hbg92hJtvJE7",
        "colab": {
          "base_uri": "https://localhost:8080/"
        },
        "outputId": "3e5d7d80-2195-4e84-9b94-466793c1ef9a"
      },
      "execution_count": 16,
      "outputs": [
        {
          "output_type": "stream",
          "name": "stdout",
          "text": [
            "##Modi is #Politician # Melony####Modi is #Politician # Melony##\n"
          ]
        }
      ]
    },
    {
      "cell_type": "markdown",
      "source": [
        "Q10. Construct a Python set that displays elements from both lists as pairs.\n",
        "\n",
        "    Given:\n",
        "\n",
        "    first_list = [2, 3, 4, 5, 6, 7, 8]\n",
        "    second_list = [4, 9, 16, 25, 36, 49, 64]\n",
        "    Output: Result is  {(6, 36), (8, 64), (4, 16), (5, 25), (3, 9), (7, 49), (2, 4)}"
      ],
      "metadata": {
        "id": "L9zg8k_XyoMz"
      }
    },
    {
      "cell_type": "code",
      "source": [
        "#write here and run the cell\n",
        "ptr1=0\n",
        "ptr2=0\n",
        "first_list = [2, 3, 4, 5, 6, 7, 8]\n",
        "second_list = [4, 9, 16, 25, 36, 49, 64]\n",
        "l=[]\n",
        "for i in first_list:\n",
        "  if i**2 in second_list:\n",
        "    l.append((i,i**2))\n",
        "ans=set(l)\n",
        "print(ans)"
      ],
      "metadata": {
        "id": "aSBw6V0OvJCS",
        "colab": {
          "base_uri": "https://localhost:8080/"
        },
        "outputId": "5d9970ef-eaaa-4aeb-b832-3a8e96276538"
      },
      "execution_count": 7,
      "outputs": [
        {
          "output_type": "stream",
          "name": "stdout",
          "text": [
            "{(7, 49), (2, 4), (4, 16), (8, 64), (6, 36), (3, 9), (5, 25)}\n"
          ]
        }
      ]
    },
    {
      "cell_type": "markdown",
      "source": [
        "Q11. Define two set A and B consisting of 5 elements. Now print the element after performing\n",
        "\n",
        "\n",
        "      1.   A-B\n",
        "      2.   B-A\n",
        "      3.   A∩B\n",
        "      4.   A∪B\n",
        "\n",
        "\n"
      ],
      "metadata": {
        "id": "JHa0SMOozZo9"
      }
    },
    {
      "cell_type": "code",
      "source": [
        "#write here and run the cell\n",
        "A={1,'a',2,'b',3,'c',4,'d',5,'e'}\n",
        "B={1,2,3,4,5,'z','y','x','w','u'}\n",
        "print(\"A-B:\",(A-B))\n",
        "print(\"B-A:\",(B-A))\n",
        "print(\"A∩B\",A.intersection(B))\n",
        "print(\"A∩B\",A.union(B))\n"
      ],
      "metadata": {
        "id": "r9vL1bpHzZGg",
        "colab": {
          "base_uri": "https://localhost:8080/"
        },
        "outputId": "8c7e5abd-918c-4ee2-8c52-873e8c295b65"
      },
      "execution_count": 10,
      "outputs": [
        {
          "output_type": "stream",
          "name": "stdout",
          "text": [
            "A-B: {'c', 'e', 'b', 'a', 'd'}\n",
            "B-A: {'x', 'w', 'y', 'z', 'u'}\n",
            "A∩B {1, 2, 3, 4, 5}\n",
            "A∩B {1, 2, 3, 4, 5, 'c', 'x', 'w', 'y', 'z', 'a', 'u', 'e', 'b', 'd'}\n"
          ]
        }
      ]
    },
    {
      "cell_type": "markdown",
      "source": [
        "## Object Oriented Programming Exercise 1:\n",
        "\n",
        "[Classes and Objects in Python](https://pynative.com/python-classes-and-objects/)\n",
        "\n",
        "[Instance variables in Python](https://pynative.com/python-instance-variables/)"
      ],
      "metadata": {
        "id": "UFjTtL_i00dz"
      }
    },
    {
      "cell_type": "markdown",
      "source": [
        "Q12. Create a Vehicle class with max_speed and mileage instance attributes."
      ],
      "metadata": {
        "id": "-PQELvq41z5B"
      }
    },
    {
      "cell_type": "code",
      "source": [
        "#write here and run the cell\n",
        "class Vehicle:\n",
        "  def __init__(self,max_speed,mileage):\n",
        "    self.max_speed=max_speed\n",
        "    self.mileage=mileage\n",
        "\n",
        "  def inherit_explain(self):\n",
        "    print(\"parents properties are inherited to child\")\n",
        "    print(\"Max speed:\",self.max_speed,\"\\nMileage:\",self.mileage)"
      ],
      "metadata": {
        "id": "Wa16l5-C0z3Z"
      },
      "execution_count": 17,
      "outputs": []
    },
    {
      "cell_type": "markdown",
      "source": [
        "Q13. Create a child class Bus that will inherit all of the variables and methods of the Vehicle class.\n",
        "\n",
        "Create a Bus object that will inherit all of the variables and methods of the parent Vehicle class and display it."
      ],
      "metadata": {
        "id": "-Japqg35177L"
      }
    },
    {
      "cell_type": "code",
      "source": [
        "#write here and run the cell\n",
        "class Bus(Vehicle):\n",
        "  def __init__(self,max_speed,mileage):\n",
        "    super().__init__(max_speed,mileage)\n",
        "\n",
        "max_speed=100\n",
        "mileage=8\n",
        "b1=Bus(max_speed,mileage)\n",
        "b1.inherit_explain()\n"
      ],
      "metadata": {
        "id": "nUvpX3qR2Upg",
        "colab": {
          "base_uri": "https://localhost:8080/"
        },
        "outputId": "8e8b303a-261d-4d19-c8af-a58b217aa84a"
      },
      "execution_count": 18,
      "outputs": [
        {
          "output_type": "stream",
          "name": "stdout",
          "text": [
            "parents properties are inherited to child\n",
            "Max speed: 100 \n",
            "Mileage: 8\n"
          ]
        }
      ]
    },
    {
      "cell_type": "markdown",
      "source": [
        "### Class Inheritance\n",
        "\n",
        "Q14. Create a Bus class that inherits from the Vehicle class. Give the capacity argument of Bus.seating_capacity() a default value of 50.\n",
        "\n",
        "Use the following code for your parent Vehicle class.\n",
        "\n",
        "    class Vehicle:\n",
        "      def __init__(self, name, max_speed, mileage):\n",
        "          self.name = name\n",
        "          self.max_speed = max_speed\n",
        "          self.mileage = mileage\n",
        "\n",
        "      def seating_capacity(self, capacity):\n",
        "          return f\"The seating capacity of a {self.name} is {capacity} passengers\"\n",
        "\n",
        "Expected Output:\n",
        "\n",
        "    The seating capacity of a bus is 50 passengers"
      ],
      "metadata": {
        "id": "fPFfg2Hh2VBe"
      }
    },
    {
      "cell_type": "code",
      "source": [
        "#write here and run the cell\n",
        "class Vehicle:\n",
        "  def __init__(self, name, max_speed, mileage):\n",
        "      self.name = name\n",
        "      self.max_speed = max_speed\n",
        "      self.mileage = mileage\n",
        "\n",
        "  def seating_capacity(self, capacity):\n",
        "      return f\"The seating capacity of a {self.name} is {capacity} passengers\"\n",
        "\n",
        "class Bus(Vehicle):\n",
        "  def __init__(self,name,max_speed,mileage):\n",
        "    super().__init__(name,max_speed,mileage)\n",
        "\n",
        "  def seating_capacity(self,capacity=50):\n",
        "      return super().seating_capacity(capacity)\n",
        "\n",
        "max_speed=100\n",
        "mileage=8\n",
        "b1=Bus(\"Benz\",max_speed,mileage)\n",
        "ans=b1.seating_capacity()\n",
        "print(ans)"
      ],
      "metadata": {
        "id": "TKalMy1B2_Ix",
        "colab": {
          "base_uri": "https://localhost:8080/"
        },
        "outputId": "9b54da2a-7db5-4b21-9e9a-d4b2236e730c"
      },
      "execution_count": 23,
      "outputs": [
        {
          "output_type": "stream",
          "name": "stdout",
          "text": [
            "The seating capacity of a Benz is 50 passengers\n"
          ]
        }
      ]
    },
    {
      "cell_type": "markdown",
      "source": [
        "Q15. Create a Bus subclass that inherits from the Vehicle class. By default, the fare for any vehicle is calculated as the seating capacity multiplied by 100. For instances of the Bus class, an additional 10% maintenance fee should be applied to the total fare. Therefore, the final fare for a bus instance will be the sum of the total fare plus an additional 10% of that total fare.\n",
        "\n",
        "Note: The bus has a seating capacity of 50, so the final fare amount should be 5500. You need to override the fare() method from the Vehicle class in the Bus class.\n",
        "\n",
        "Use the provided code for the parent Vehicle class. You should access the parent class within a method of the child class.\n",
        "\n",
        "    class Vehicle:\n",
        "      def __init__(self, name, mileage, capacity):\n",
        "        self.name = name\n",
        "        self.mileage = mileage\n",
        "        self.capacity = capacity\n",
        "\n",
        "      def fare(self):\n",
        "        return self.capacity * 100\n",
        "\n",
        "    class Bus(Vehicle):\n",
        "        pass\n",
        "        School_bus = Bus(\"School Volvo\", 12, 50)\n",
        "        print(\"Total Bus fare is:\", School_bus.fare())\n",
        "\n",
        "    Expected Output:\n",
        "\n",
        "    Total Bus fare is: 5500.0"
      ],
      "metadata": {
        "id": "kenJ766m2_jc"
      }
    },
    {
      "cell_type": "code",
      "source": [
        "#write here and run the cell\n",
        "\n",
        "class Vehicle:\n",
        "  def __init__(self, name, mileage, capacity):\n",
        "    self.name = name\n",
        "    self.mileage = mileage\n",
        "    self.capacity = capacity\n",
        "\n",
        "  def fare(self):\n",
        "    return self.capacity * 100\n",
        "\n",
        "class Bus(Vehicle):\n",
        "    def fare(self):\n",
        "      return self.capacity*100 + self.capacity*100/10\n",
        "School_bus = Bus(\"School Volvo\", 12, 50)\n",
        "print(\"Total Bus fare is:\", School_bus.fare())"
      ],
      "metadata": {
        "id": "jY3Z5SsY_iaQ",
        "colab": {
          "base_uri": "https://localhost:8080/"
        },
        "outputId": "59623d9a-9587-4ef1-9949-82bb4be8ed2b"
      },
      "execution_count": 24,
      "outputs": [
        {
          "output_type": "stream",
          "name": "stdout",
          "text": [
            "Total Bus fare is: 5500.0\n"
          ]
        }
      ]
    },
    {
      "cell_type": "markdown",
      "source": [
        "### Python JSON Exercise\n",
        "Refer: [Python JSON tutorials](https://pynative.com/python/json/)"
      ],
      "metadata": {
        "id": "3wMvLEkk_nWE"
      }
    },
    {
      "cell_type": "markdown",
      "source": [
        "Q16. Convert the following dictionary into JSON format\n",
        "\n",
        "    data = {\"key1\" : \"value1\", \"key2\" : \"value2\"}\n",
        "    data = {\"key1\" : \"value1\", \"key2\" : \"value2\"}"
      ],
      "metadata": {
        "id": "zVIiuI0PAcuT"
      }
    },
    {
      "cell_type": "code",
      "source": [
        "import json\n",
        "#write here and run the cell\n",
        "data = {\"key1\" : \"value1\", \"key2\" : \"value2\"}\n",
        "ans=json.dumps(data)\n",
        "print((ans))"
      ],
      "metadata": {
        "id": "Z5M47OYS_mhA",
        "colab": {
          "base_uri": "https://localhost:8080/"
        },
        "outputId": "355105de-92e7-42a2-913f-4ee27f3c0309"
      },
      "execution_count": 3,
      "outputs": [
        {
          "output_type": "stream",
          "name": "stdout",
          "text": [
            "{\"key1\": \"value1\", \"key2\": \"value2\"}\n"
          ]
        }
      ]
    },
    {
      "cell_type": "markdown",
      "source": [
        "Q17. Sort JSON keys in and write them into a file\n",
        "\n",
        "    sampleJson = {\"id\" : 1, \"name\" : \"value2\", \"age\" : 29}\n",
        "\n",
        "    {\n",
        "          \"age\": 29,\n",
        "          \"id\": 1,\n",
        "          \"name\": \"value2\"\n",
        "    }"
      ],
      "metadata": {
        "id": "8eE35QccA_X-"
      }
    },
    {
      "cell_type": "code",
      "source": [
        "#write here and run the cell\n",
        "import json\n",
        "sampleJson = {\"id\" : 1, \"name\" : \"value2\", \"age\" : 29}\n",
        "\n",
        "{\n",
        "      \"age\": 29,\n",
        "      \"id\": 1,\n",
        "      \"name\": \"value2\"\n",
        "}\n",
        "\n",
        "with open(\"q17ans\",'w') as f:\n",
        "  json.dump(sampleJson,f,indent=2,sort_keys=True)"
      ],
      "metadata": {
        "id": "jLG5tk_X_j5O"
      },
      "execution_count": 4,
      "outputs": []
    }
  ]
}